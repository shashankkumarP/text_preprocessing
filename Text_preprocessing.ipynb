{
  "nbformat": 4,
  "nbformat_minor": 0,
  "metadata": {
    "colab": {
      "provenance": []
    },
    "kernelspec": {
      "name": "python3",
      "display_name": "Python 3"
    },
    "language_info": {
      "name": "python"
    }
  },
  "cells": [
    {
      "cell_type": "code",
      "execution_count": 1,
      "metadata": {
        "id": "RbgiBAK-WVed"
      },
      "outputs": [],
      "source": [
        "from nltk import PorterStemmer"
      ]
    },
    {
      "cell_type": "code",
      "source": [
        "words = ['eaten','eats', 'eating', 'eatable', 'steam', 'eat', 'only', 'same', 'as', 'other','programming','program']"
      ],
      "metadata": {
        "id": "fg7UNNDEX4rH"
      },
      "execution_count": 3,
      "outputs": []
    },
    {
      "cell_type": "code",
      "source": [
        "stemming = PorterStemmer()\n",
        "stemmedWord = [stemming.stem(word) for word in words]\n",
        "print(stemmedWord)"
      ],
      "metadata": {
        "colab": {
          "base_uri": "https://localhost:8080/"
        },
        "id": "LCBcDKHbX878",
        "outputId": "6b43dd96-accb-40a7-d56b-f380327663f3"
      },
      "execution_count": 4,
      "outputs": [
        {
          "output_type": "stream",
          "name": "stdout",
          "text": [
            "['eaten', 'eat', 'eat', 'eatabl', 'steam', 'eat', 'onli', 'same', 'as', 'other', 'program', 'program']\n"
          ]
        }
      ]
    },
    {
      "cell_type": "code",
      "source": [
        "from nltk import RegexpStemmer\n",
        "reg_stemming = RegexpStemmer('ing$|es$|ed$|s$', min=4)"
      ],
      "metadata": {
        "id": "F-0UnuBXX9dZ"
      },
      "execution_count": 5,
      "outputs": []
    },
    {
      "cell_type": "code",
      "source": [
        "\n",
        "regexpword = [reg_stemming.stem(word) for word in words]\n",
        "print(regexpword)\n"
      ],
      "metadata": {
        "colab": {
          "base_uri": "https://localhost:8080/"
        },
        "id": "MSy8SH7oX96C",
        "outputId": "05ce6f99-b923-447e-9e6f-b971ef91cb6c"
      },
      "execution_count": 6,
      "outputs": [
        {
          "output_type": "stream",
          "name": "stdout",
          "text": [
            "['eaten', 'eat', 'eat', 'eatable', 'steam', 'eat', 'only', 'same', 'as', 'other', 'programm', 'program']\n"
          ]
        }
      ]
    },
    {
      "cell_type": "code",
      "source": [
        "from nltk import SnowballStemmer\n",
        "snowball_stemmer = SnowballStemmer('english')"
      ],
      "metadata": {
        "id": "PvpeREpZX-g2"
      },
      "execution_count": 7,
      "outputs": []
    },
    {
      "cell_type": "code",
      "source": [
        "snowball_smatterWord = [snowball_stemmer.stem(word) for word in words]\n",
        "print(snowball_smatterWord)"
      ],
      "metadata": {
        "colab": {
          "base_uri": "https://localhost:8080/"
        },
        "id": "cVjt8mkiX-zn",
        "outputId": "90a3f959-a3f0-40a6-a346-e6e2efbb8647"
      },
      "execution_count": 8,
      "outputs": [
        {
          "output_type": "stream",
          "name": "stdout",
          "text": [
            "['eaten', 'eat', 'eat', 'eatabl', 'steam', 'eat', 'onli', 'same', 'as', 'other', 'program', 'program']\n"
          ]
        }
      ]
    },
    {
      "cell_type": "code",
      "source": [
        "from nltk import WordNetLemmatizer\n",
        "lemmatizer = WordNetLemmatizer()"
      ],
      "metadata": {
        "id": "llgfWsJtX_fU"
      },
      "execution_count": 9,
      "outputs": []
    },
    {
      "cell_type": "code",
      "source": [
        "from nltk import WordNetLemmatizer\n",
        "lemmatizer = WordNetLemmatizer()\n",
        "import nltk\n",
        "nltk.download('wordnet')"
      ],
      "metadata": {
        "colab": {
          "base_uri": "https://localhost:8080/"
        },
        "id": "nJLVKTnfYYur",
        "outputId": "02826f4a-6da4-4af9-d9e4-e518020aa086"
      },
      "execution_count": 11,
      "outputs": [
        {
          "output_type": "stream",
          "name": "stderr",
          "text": [
            "[nltk_data] Downloading package wordnet to /root/nltk_data...\n"
          ]
        },
        {
          "output_type": "execute_result",
          "data": {
            "text/plain": [
              "True"
            ]
          },
          "metadata": {},
          "execution_count": 11
        }
      ]
    },
    {
      "cell_type": "code",
      "source": [
        "# here we have give word and select the type of word verb adverb nooun adjective\n",
        "lemmatizer.lemmatize('goes','v')"
      ],
      "metadata": {
        "colab": {
          "base_uri": "https://localhost:8080/",
          "height": 35
        },
        "id": "BMF9dxy6YiGr",
        "outputId": "7960e3ca-50b5-4e40-ceb8-ced923263571"
      },
      "execution_count": 13,
      "outputs": [
        {
          "output_type": "execute_result",
          "data": {
            "text/plain": [
              "'go'"
            ],
            "application/vnd.google.colaboratory.intrinsic+json": {
              "type": "string"
            }
          },
          "metadata": {},
          "execution_count": 13
        }
      ]
    },
    {
      "cell_type": "code",
      "source": [
        "print([lemmatizer.lemmatize(word,'v') for word in words])"
      ],
      "metadata": {
        "colab": {
          "base_uri": "https://localhost:8080/"
        },
        "id": "9gExXH4FZBtC",
        "outputId": "8fdf763d-9158-42fc-ae01-3d01f23fc2b5"
      },
      "execution_count": 16,
      "outputs": [
        {
          "output_type": "stream",
          "name": "stdout",
          "text": [
            "['eaten', 'eats', 'eating', 'eatable', 'steam', 'eat', 'only', 'same', 'as', 'other', 'programming', 'program']\n"
          ]
        }
      ]
    },
    {
      "cell_type": "code",
      "source": [],
      "metadata": {
        "id": "2tC-nAZJZXdQ"
      },
      "execution_count": null,
      "outputs": []
    }
  ]
}
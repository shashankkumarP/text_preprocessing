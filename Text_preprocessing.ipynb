{
  "nbformat": 4,
  "nbformat_minor": 0,
  "metadata": {
    "colab": {
      "provenance": []
    },
    "kernelspec": {
      "name": "python3",
      "display_name": "Python 3"
    },
    "language_info": {
      "name": "python"
    }
  },
  "cells": [
    {
      "cell_type": "code",
      "execution_count": 2,
      "metadata": {
        "id": "RbgiBAK-WVed"
      },
      "outputs": [],
      "source": [
        "from nltk import PorterStemmer"
      ]
    },
    {
      "cell_type": "code",
      "source": [
        "words = ['eaten','eats', 'eating', 'eatable', 'steam', 'eat', 'only', 'same', 'as', 'other','programming','program']"
      ],
      "metadata": {
        "id": "fg7UNNDEX4rH"
      },
      "execution_count": 3,
      "outputs": []
    },
    {
      "cell_type": "code",
      "source": [
        "stemming = PorterStemmer()\n",
        "stemmedWord = [stemming.stem(word) for word in words]\n",
        "print(stemmedWord)"
      ],
      "metadata": {
        "colab": {
          "base_uri": "https://localhost:8080/"
        },
        "id": "LCBcDKHbX878",
        "outputId": "b4410d5c-bc9a-45e7-8686-b82b87c785c7"
      },
      "execution_count": 4,
      "outputs": [
        {
          "output_type": "stream",
          "name": "stdout",
          "text": [
            "['eaten', 'eat', 'eat', 'eatabl', 'steam', 'eat', 'onli', 'same', 'as', 'other', 'program', 'program']\n"
          ]
        }
      ]
    },
    {
      "cell_type": "code",
      "source": [
        "from nltk import RegexpStemmer\n",
        "reg_stemming = RegexpStemmer('ing$|es$|ed$|s$', min=4)"
      ],
      "metadata": {
        "id": "F-0UnuBXX9dZ"
      },
      "execution_count": 5,
      "outputs": []
    },
    {
      "cell_type": "code",
      "source": [
        "\n",
        "regexpword = [reg_stemming.stem(word) for word in words]\n",
        "print(regexpword)\n"
      ],
      "metadata": {
        "colab": {
          "base_uri": "https://localhost:8080/"
        },
        "id": "MSy8SH7oX96C",
        "outputId": "4ef3d84c-1365-47a8-f85c-3c328d7824ee"
      },
      "execution_count": 6,
      "outputs": [
        {
          "output_type": "stream",
          "name": "stdout",
          "text": [
            "['eaten', 'eat', 'eat', 'eatable', 'steam', 'eat', 'only', 'same', 'as', 'other', 'programm', 'program']\n"
          ]
        }
      ]
    },
    {
      "cell_type": "code",
      "source": [
        "from nltk import SnowballStemmer\n",
        "snowball_stemmer = SnowballStemmer('english')"
      ],
      "metadata": {
        "id": "PvpeREpZX-g2"
      },
      "execution_count": 7,
      "outputs": []
    },
    {
      "cell_type": "code",
      "source": [
        "snowball_smatterWord = [snowball_stemmer.stem(word) for word in words]\n",
        "print(snowball_smatterWord)"
      ],
      "metadata": {
        "colab": {
          "base_uri": "https://localhost:8080/"
        },
        "id": "cVjt8mkiX-zn",
        "outputId": "98f55e4f-4522-47a5-b81f-37c323a654dd"
      },
      "execution_count": 8,
      "outputs": [
        {
          "output_type": "stream",
          "name": "stdout",
          "text": [
            "['eaten', 'eat', 'eat', 'eatabl', 'steam', 'eat', 'onli', 'same', 'as', 'other', 'program', 'program']\n"
          ]
        }
      ]
    },
    {
      "cell_type": "code",
      "source": [
        "from nltk import WordNetLemmatizer\n",
        "lemmatizer = WordNetLemmatizer()"
      ],
      "metadata": {
        "id": "llgfWsJtX_fU"
      },
      "execution_count": 9,
      "outputs": []
    },
    {
      "cell_type": "code",
      "source": [
        "from nltk import WordNetLemmatizer\n",
        "lemmatizer = WordNetLemmatizer()\n",
        "import nltk\n",
        "nltk.download('wordnet')"
      ],
      "metadata": {
        "colab": {
          "base_uri": "https://localhost:8080/"
        },
        "id": "nJLVKTnfYYur",
        "outputId": "ba0b4ffc-cd91-4831-bbea-7d82a8f603ab"
      },
      "execution_count": 10,
      "outputs": [
        {
          "output_type": "stream",
          "name": "stderr",
          "text": [
            "[nltk_data] Downloading package wordnet to /root/nltk_data...\n"
          ]
        },
        {
          "output_type": "execute_result",
          "data": {
            "text/plain": [
              "True"
            ]
          },
          "metadata": {},
          "execution_count": 10
        }
      ]
    },
    {
      "cell_type": "code",
      "source": [
        "# here we have give word and select the type of word verb adverb nooun adjective\n",
        "lemmatizer.lemmatize('goes','v')"
      ],
      "metadata": {
        "colab": {
          "base_uri": "https://localhost:8080/",
          "height": 35
        },
        "id": "BMF9dxy6YiGr",
        "outputId": "5e8d2372-8492-4dc1-c3f1-d1969ada5bbc"
      },
      "execution_count": 11,
      "outputs": [
        {
          "output_type": "execute_result",
          "data": {
            "text/plain": [
              "'go'"
            ],
            "application/vnd.google.colaboratory.intrinsic+json": {
              "type": "string"
            }
          },
          "metadata": {},
          "execution_count": 11
        }
      ]
    },
    {
      "cell_type": "code",
      "source": [
        "print([lemmatizer.lemmatize(word,'v') for word in words])"
      ],
      "metadata": {
        "colab": {
          "base_uri": "https://localhost:8080/"
        },
        "id": "9gExXH4FZBtC",
        "outputId": "f98aca90-9850-47be-e60a-41bc2c566efc"
      },
      "execution_count": 12,
      "outputs": [
        {
          "output_type": "stream",
          "name": "stdout",
          "text": [
            "['eat', 'eat', 'eat', 'eatable', 'steam', 'eat', 'only', 'same', 'as', 'other', 'program', 'program']\n"
          ]
        }
      ]
    },
    {
      "cell_type": "code",
      "source": [
        "print([lemmatizer.lemmatize(word,'a') for word in words])"
      ],
      "metadata": {
        "id": "2tC-nAZJZXdQ",
        "outputId": "92e7d931-b980-47bd-a3a9-8486bbafd8a7",
        "colab": {
          "base_uri": "https://localhost:8080/"
        }
      },
      "execution_count": 13,
      "outputs": [
        {
          "output_type": "stream",
          "name": "stdout",
          "text": [
            "['eaten', 'eats', 'eating', 'eatable', 'steam', 'eat', 'only', 'same', 'as', 'other', 'programming', 'program']\n"
          ]
        }
      ]
    }
  ]
}